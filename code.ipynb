{
 "cells": [
  {
   "cell_type": "code",
   "execution_count": 1,
   "id": "4adc3318",
   "metadata": {},
   "outputs": [],
   "source": [
    "import pandas as pd\n",
    "import numpy as np\n",
    "import matplotlib.pyplot as plt\n",
    "import seaborn as sns"
   ]
  },
  {
   "cell_type": "code",
   "execution_count": 2,
   "id": "ad55a20d",
   "metadata": {},
   "outputs": [],
   "source": [
    "df_big=pd.read_csv('insurance.csv')"
   ]
  },
  {
   "cell_type": "code",
   "execution_count": 3,
   "id": "b1dce409",
   "metadata": {},
   "outputs": [
    {
     "data": {
      "text/plain": [
       "(1338, 7)"
      ]
     },
     "execution_count": 3,
     "metadata": {},
     "output_type": "execute_result"
    }
   ],
   "source": [
    "df_big.shape"
   ]
  },
  {
   "cell_type": "code",
   "execution_count": 4,
   "id": "11ace552",
   "metadata": {},
   "outputs": [],
   "source": [
    "df= df_big.sample(n=1000, random_state=42)"
   ]
  },
  {
   "cell_type": "code",
   "execution_count": 5,
   "id": "3fd79065",
   "metadata": {},
   "outputs": [
    {
     "data": {
      "text/plain": [
       "(1000, 7)"
      ]
     },
     "execution_count": 5,
     "metadata": {},
     "output_type": "execute_result"
    }
   ],
   "source": [
    "df.shape"
   ]
  },
  {
   "cell_type": "code",
   "execution_count": 6,
   "id": "668fcc0d",
   "metadata": {},
   "outputs": [
    {
     "data": {
      "text/plain": [
       "Index(['age', 'sex', 'bmi', 'children', 'smoker', 'region', 'charges'], dtype='object')"
      ]
     },
     "execution_count": 6,
     "metadata": {},
     "output_type": "execute_result"
    }
   ],
   "source": [
    "df.columns"
   ]
  },
  {
   "cell_type": "code",
   "execution_count": 7,
   "id": "f034ac2a",
   "metadata": {},
   "outputs": [
    {
     "data": {
      "text/html": [
       "<div>\n",
       "<style scoped>\n",
       "    .dataframe tbody tr th:only-of-type {\n",
       "        vertical-align: middle;\n",
       "    }\n",
       "\n",
       "    .dataframe tbody tr th {\n",
       "        vertical-align: top;\n",
       "    }\n",
       "\n",
       "    .dataframe thead th {\n",
       "        text-align: right;\n",
       "    }\n",
       "</style>\n",
       "<table border=\"1\" class=\"dataframe\">\n",
       "  <thead>\n",
       "    <tr style=\"text-align: right;\">\n",
       "      <th></th>\n",
       "      <th>age</th>\n",
       "      <th>sex</th>\n",
       "      <th>bmi</th>\n",
       "      <th>children</th>\n",
       "      <th>smoker</th>\n",
       "      <th>region</th>\n",
       "      <th>charges</th>\n",
       "    </tr>\n",
       "  </thead>\n",
       "  <tbody>\n",
       "    <tr>\n",
       "      <th>764</th>\n",
       "      <td>45</td>\n",
       "      <td>female</td>\n",
       "      <td>25.175</td>\n",
       "      <td>2</td>\n",
       "      <td>no</td>\n",
       "      <td>northeast</td>\n",
       "      <td>9095.06825</td>\n",
       "    </tr>\n",
       "    <tr>\n",
       "      <th>887</th>\n",
       "      <td>36</td>\n",
       "      <td>female</td>\n",
       "      <td>30.020</td>\n",
       "      <td>0</td>\n",
       "      <td>no</td>\n",
       "      <td>northwest</td>\n",
       "      <td>5272.17580</td>\n",
       "    </tr>\n",
       "    <tr>\n",
       "      <th>890</th>\n",
       "      <td>64</td>\n",
       "      <td>female</td>\n",
       "      <td>26.885</td>\n",
       "      <td>0</td>\n",
       "      <td>yes</td>\n",
       "      <td>northwest</td>\n",
       "      <td>29330.98315</td>\n",
       "    </tr>\n",
       "    <tr>\n",
       "      <th>1293</th>\n",
       "      <td>46</td>\n",
       "      <td>male</td>\n",
       "      <td>25.745</td>\n",
       "      <td>3</td>\n",
       "      <td>no</td>\n",
       "      <td>northwest</td>\n",
       "      <td>9301.89355</td>\n",
       "    </tr>\n",
       "    <tr>\n",
       "      <th>259</th>\n",
       "      <td>19</td>\n",
       "      <td>male</td>\n",
       "      <td>31.920</td>\n",
       "      <td>0</td>\n",
       "      <td>yes</td>\n",
       "      <td>northwest</td>\n",
       "      <td>33750.29180</td>\n",
       "    </tr>\n",
       "  </tbody>\n",
       "</table>\n",
       "</div>"
      ],
      "text/plain": [
       "      age     sex     bmi  children smoker     region      charges\n",
       "764    45  female  25.175         2     no  northeast   9095.06825\n",
       "887    36  female  30.020         0     no  northwest   5272.17580\n",
       "890    64  female  26.885         0    yes  northwest  29330.98315\n",
       "1293   46    male  25.745         3     no  northwest   9301.89355\n",
       "259    19    male  31.920         0    yes  northwest  33750.29180"
      ]
     },
     "execution_count": 7,
     "metadata": {},
     "output_type": "execute_result"
    }
   ],
   "source": [
    "df.head()"
   ]
  },
  {
   "cell_type": "code",
   "execution_count": 8,
   "id": "464bd767",
   "metadata": {},
   "outputs": [
    {
     "data": {
      "text/html": [
       "<div>\n",
       "<style scoped>\n",
       "    .dataframe tbody tr th:only-of-type {\n",
       "        vertical-align: middle;\n",
       "    }\n",
       "\n",
       "    .dataframe tbody tr th {\n",
       "        vertical-align: top;\n",
       "    }\n",
       "\n",
       "    .dataframe thead th {\n",
       "        text-align: right;\n",
       "    }\n",
       "</style>\n",
       "<table border=\"1\" class=\"dataframe\">\n",
       "  <thead>\n",
       "    <tr style=\"text-align: right;\">\n",
       "      <th></th>\n",
       "      <th>age</th>\n",
       "      <th>sex</th>\n",
       "      <th>bmi</th>\n",
       "      <th>children</th>\n",
       "      <th>smoker</th>\n",
       "      <th>region</th>\n",
       "      <th>charges</th>\n",
       "    </tr>\n",
       "  </thead>\n",
       "  <tbody>\n",
       "    <tr>\n",
       "      <th>349</th>\n",
       "      <td>19</td>\n",
       "      <td>male</td>\n",
       "      <td>27.835</td>\n",
       "      <td>0</td>\n",
       "      <td>no</td>\n",
       "      <td>northwest</td>\n",
       "      <td>1635.73365</td>\n",
       "    </tr>\n",
       "    <tr>\n",
       "      <th>1156</th>\n",
       "      <td>19</td>\n",
       "      <td>male</td>\n",
       "      <td>44.880</td>\n",
       "      <td>0</td>\n",
       "      <td>yes</td>\n",
       "      <td>southeast</td>\n",
       "      <td>39722.74620</td>\n",
       "    </tr>\n",
       "    <tr>\n",
       "      <th>991</th>\n",
       "      <td>38</td>\n",
       "      <td>female</td>\n",
       "      <td>27.835</td>\n",
       "      <td>2</td>\n",
       "      <td>no</td>\n",
       "      <td>northeast</td>\n",
       "      <td>7144.86265</td>\n",
       "    </tr>\n",
       "    <tr>\n",
       "      <th>876</th>\n",
       "      <td>49</td>\n",
       "      <td>female</td>\n",
       "      <td>27.100</td>\n",
       "      <td>1</td>\n",
       "      <td>no</td>\n",
       "      <td>southwest</td>\n",
       "      <td>26140.36030</td>\n",
       "    </tr>\n",
       "    <tr>\n",
       "      <th>773</th>\n",
       "      <td>19</td>\n",
       "      <td>female</td>\n",
       "      <td>28.880</td>\n",
       "      <td>0</td>\n",
       "      <td>yes</td>\n",
       "      <td>northwest</td>\n",
       "      <td>17748.50620</td>\n",
       "    </tr>\n",
       "  </tbody>\n",
       "</table>\n",
       "</div>"
      ],
      "text/plain": [
       "      age     sex     bmi  children smoker     region      charges\n",
       "349    19    male  27.835         0     no  northwest   1635.73365\n",
       "1156   19    male  44.880         0    yes  southeast  39722.74620\n",
       "991    38  female  27.835         2     no  northeast   7144.86265\n",
       "876    49  female  27.100         1     no  southwest  26140.36030\n",
       "773    19  female  28.880         0    yes  northwest  17748.50620"
      ]
     },
     "execution_count": 8,
     "metadata": {},
     "output_type": "execute_result"
    }
   ],
   "source": [
    "df.tail()"
   ]
  },
  {
   "cell_type": "code",
   "execution_count": 9,
   "id": "7aeb2e08",
   "metadata": {},
   "outputs": [
    {
     "name": "stdout",
     "output_type": "stream",
     "text": [
      "<class 'pandas.core.frame.DataFrame'>\n",
      "Index: 1000 entries, 764 to 773\n",
      "Data columns (total 7 columns):\n",
      " #   Column    Non-Null Count  Dtype  \n",
      "---  ------    --------------  -----  \n",
      " 0   age       1000 non-null   int64  \n",
      " 1   sex       1000 non-null   object \n",
      " 2   bmi       1000 non-null   float64\n",
      " 3   children  1000 non-null   int64  \n",
      " 4   smoker    1000 non-null   object \n",
      " 5   region    1000 non-null   object \n",
      " 6   charges   1000 non-null   float64\n",
      "dtypes: float64(2), int64(2), object(3)\n",
      "memory usage: 62.5+ KB\n"
     ]
    }
   ],
   "source": [
    "df.info()"
   ]
  },
  {
   "cell_type": "code",
   "execution_count": 10,
   "id": "a8fabadf",
   "metadata": {},
   "outputs": [
    {
     "data": {
      "text/html": [
       "<div>\n",
       "<style scoped>\n",
       "    .dataframe tbody tr th:only-of-type {\n",
       "        vertical-align: middle;\n",
       "    }\n",
       "\n",
       "    .dataframe tbody tr th {\n",
       "        vertical-align: top;\n",
       "    }\n",
       "\n",
       "    .dataframe thead th {\n",
       "        text-align: right;\n",
       "    }\n",
       "</style>\n",
       "<table border=\"1\" class=\"dataframe\">\n",
       "  <thead>\n",
       "    <tr style=\"text-align: right;\">\n",
       "      <th></th>\n",
       "      <th>age</th>\n",
       "      <th>bmi</th>\n",
       "      <th>children</th>\n",
       "      <th>charges</th>\n",
       "    </tr>\n",
       "  </thead>\n",
       "  <tbody>\n",
       "    <tr>\n",
       "      <th>count</th>\n",
       "      <td>1000.000000</td>\n",
       "      <td>1000.000000</td>\n",
       "      <td>1000.000000</td>\n",
       "      <td>1000.000000</td>\n",
       "    </tr>\n",
       "    <tr>\n",
       "      <th>mean</th>\n",
       "      <td>39.330000</td>\n",
       "      <td>30.787830</td>\n",
       "      <td>1.109000</td>\n",
       "      <td>13424.151897</td>\n",
       "    </tr>\n",
       "    <tr>\n",
       "      <th>std</th>\n",
       "      <td>13.957647</td>\n",
       "      <td>6.201213</td>\n",
       "      <td>1.193542</td>\n",
       "      <td>12157.933538</td>\n",
       "    </tr>\n",
       "    <tr>\n",
       "      <th>min</th>\n",
       "      <td>18.000000</td>\n",
       "      <td>15.960000</td>\n",
       "      <td>0.000000</td>\n",
       "      <td>1121.873900</td>\n",
       "    </tr>\n",
       "    <tr>\n",
       "      <th>25%</th>\n",
       "      <td>27.000000</td>\n",
       "      <td>26.400000</td>\n",
       "      <td>0.000000</td>\n",
       "      <td>4815.829287</td>\n",
       "    </tr>\n",
       "    <tr>\n",
       "      <th>50%</th>\n",
       "      <td>39.000000</td>\n",
       "      <td>30.495000</td>\n",
       "      <td>1.000000</td>\n",
       "      <td>9440.087825</td>\n",
       "    </tr>\n",
       "    <tr>\n",
       "      <th>75%</th>\n",
       "      <td>51.000000</td>\n",
       "      <td>34.816250</td>\n",
       "      <td>2.000000</td>\n",
       "      <td>17178.892300</td>\n",
       "    </tr>\n",
       "    <tr>\n",
       "      <th>max</th>\n",
       "      <td>64.000000</td>\n",
       "      <td>53.130000</td>\n",
       "      <td>5.000000</td>\n",
       "      <td>63770.428010</td>\n",
       "    </tr>\n",
       "  </tbody>\n",
       "</table>\n",
       "</div>"
      ],
      "text/plain": [
       "               age          bmi     children       charges\n",
       "count  1000.000000  1000.000000  1000.000000   1000.000000\n",
       "mean     39.330000    30.787830     1.109000  13424.151897\n",
       "std      13.957647     6.201213     1.193542  12157.933538\n",
       "min      18.000000    15.960000     0.000000   1121.873900\n",
       "25%      27.000000    26.400000     0.000000   4815.829287\n",
       "50%      39.000000    30.495000     1.000000   9440.087825\n",
       "75%      51.000000    34.816250     2.000000  17178.892300\n",
       "max      64.000000    53.130000     5.000000  63770.428010"
      ]
     },
     "execution_count": 10,
     "metadata": {},
     "output_type": "execute_result"
    }
   ],
   "source": [
    "df.describe()"
   ]
  },
  {
   "cell_type": "code",
   "execution_count": 11,
   "id": "30059010",
   "metadata": {},
   "outputs": [
    {
     "data": {
      "text/plain": [
       "age         0\n",
       "sex         0\n",
       "bmi         0\n",
       "children    0\n",
       "smoker      0\n",
       "region      0\n",
       "charges     0\n",
       "dtype: int64"
      ]
     },
     "execution_count": 11,
     "metadata": {},
     "output_type": "execute_result"
    }
   ],
   "source": [
    "df.isnull().sum()"
   ]
  },
  {
   "cell_type": "code",
   "execution_count": 12,
   "id": "78f57eed",
   "metadata": {},
   "outputs": [
    {
     "data": {
      "text/plain": [
       "age         0\n",
       "sex         0\n",
       "bmi         0\n",
       "children    0\n",
       "smoker      0\n",
       "region      0\n",
       "charges     0\n",
       "dtype: int64"
      ]
     },
     "execution_count": 12,
     "metadata": {},
     "output_type": "execute_result"
    }
   ],
   "source": [
    "df.isna().sum()"
   ]
  },
  {
   "cell_type": "code",
   "execution_count": 13,
   "id": "9dc72ffb",
   "metadata": {},
   "outputs": [
    {
     "data": {
      "text/plain": [
       "0"
      ]
     },
     "execution_count": 13,
     "metadata": {},
     "output_type": "execute_result"
    }
   ],
   "source": [
    "df.duplicated().sum()"
   ]
  },
  {
   "cell_type": "code",
   "execution_count": 14,
   "id": "ea6a8f9d",
   "metadata": {},
   "outputs": [
    {
     "data": {
      "text/plain": [
       "age           int64\n",
       "sex          object\n",
       "bmi         float64\n",
       "children      int64\n",
       "smoker       object\n",
       "region       object\n",
       "charges     float64\n",
       "dtype: object"
      ]
     },
     "execution_count": 14,
     "metadata": {},
     "output_type": "execute_result"
    }
   ],
   "source": [
    "df.dtypes"
   ]
  },
  {
   "cell_type": "code",
   "execution_count": 15,
   "id": "ece57ff0",
   "metadata": {},
   "outputs": [
    {
     "data": {
      "text/plain": [
       "764     45.0\n",
       "887     36.0\n",
       "890     64.0\n",
       "1293    46.0\n",
       "259     19.0\n",
       "Name: age, dtype: float64"
      ]
     },
     "execution_count": 15,
     "metadata": {},
     "output_type": "execute_result"
    }
   ],
   "source": [
    "df['age'] = df['age'].astype(float)\n",
    "df['age'].head()"
   ]
  },
  {
   "cell_type": "code",
   "execution_count": 16,
   "id": "ce61d3cd",
   "metadata": {},
   "outputs": [
    {
     "data": {
      "text/plain": [
       "764     2.0\n",
       "887     0.0\n",
       "890     0.0\n",
       "1293    3.0\n",
       "259     0.0\n",
       "Name: children, dtype: float64"
      ]
     },
     "execution_count": 16,
     "metadata": {},
     "output_type": "execute_result"
    }
   ],
   "source": [
    "df['children']=df['children'].astype('float')\n",
    "df['children'].head()"
   ]
  },
  {
   "cell_type": "code",
   "execution_count": 17,
   "id": "34cd8b22",
   "metadata": {},
   "outputs": [],
   "source": [
    "df['Gender_Male']=pd.get_dummies(df['sex'],drop_first=True)"
   ]
  },
  {
   "cell_type": "code",
   "execution_count": 18,
   "id": "aba2d220",
   "metadata": {},
   "outputs": [],
   "source": [
    "df.drop(columns='sex',axis=1,inplace=True)"
   ]
  },
  {
   "cell_type": "code",
   "execution_count": 19,
   "id": "20934983",
   "metadata": {},
   "outputs": [],
   "source": [
    "df['Smoker_Yes']=pd.get_dummies(df['smoker'],drop_first=True)"
   ]
  },
  {
   "cell_type": "code",
   "execution_count": 20,
   "id": "b4edd72e",
   "metadata": {},
   "outputs": [],
   "source": [
    "df.drop(columns='smoker',inplace=True)"
   ]
  },
  {
   "cell_type": "code",
   "execution_count": 21,
   "id": "2c5b0d9b",
   "metadata": {},
   "outputs": [],
   "source": [
    "df1=pd.get_dummies(df,columns=['region'])"
   ]
  },
  {
   "cell_type": "code",
   "execution_count": 22,
   "id": "1e5c9c8c",
   "metadata": {},
   "outputs": [
    {
     "data": {
      "text/html": [
       "<div>\n",
       "<style scoped>\n",
       "    .dataframe tbody tr th:only-of-type {\n",
       "        vertical-align: middle;\n",
       "    }\n",
       "\n",
       "    .dataframe tbody tr th {\n",
       "        vertical-align: top;\n",
       "    }\n",
       "\n",
       "    .dataframe thead th {\n",
       "        text-align: right;\n",
       "    }\n",
       "</style>\n",
       "<table border=\"1\" class=\"dataframe\">\n",
       "  <thead>\n",
       "    <tr style=\"text-align: right;\">\n",
       "      <th></th>\n",
       "      <th>age</th>\n",
       "      <th>bmi</th>\n",
       "      <th>children</th>\n",
       "      <th>charges</th>\n",
       "      <th>Gender_Male</th>\n",
       "      <th>Smoker_Yes</th>\n",
       "      <th>region_northeast</th>\n",
       "      <th>region_northwest</th>\n",
       "      <th>region_southeast</th>\n",
       "      <th>region_southwest</th>\n",
       "    </tr>\n",
       "  </thead>\n",
       "  <tbody>\n",
       "    <tr>\n",
       "      <th>764</th>\n",
       "      <td>45.0</td>\n",
       "      <td>25.175</td>\n",
       "      <td>2.0</td>\n",
       "      <td>9095.06825</td>\n",
       "      <td>False</td>\n",
       "      <td>False</td>\n",
       "      <td>True</td>\n",
       "      <td>False</td>\n",
       "      <td>False</td>\n",
       "      <td>False</td>\n",
       "    </tr>\n",
       "    <tr>\n",
       "      <th>887</th>\n",
       "      <td>36.0</td>\n",
       "      <td>30.020</td>\n",
       "      <td>0.0</td>\n",
       "      <td>5272.17580</td>\n",
       "      <td>False</td>\n",
       "      <td>False</td>\n",
       "      <td>False</td>\n",
       "      <td>True</td>\n",
       "      <td>False</td>\n",
       "      <td>False</td>\n",
       "    </tr>\n",
       "    <tr>\n",
       "      <th>890</th>\n",
       "      <td>64.0</td>\n",
       "      <td>26.885</td>\n",
       "      <td>0.0</td>\n",
       "      <td>29330.98315</td>\n",
       "      <td>False</td>\n",
       "      <td>True</td>\n",
       "      <td>False</td>\n",
       "      <td>True</td>\n",
       "      <td>False</td>\n",
       "      <td>False</td>\n",
       "    </tr>\n",
       "    <tr>\n",
       "      <th>1293</th>\n",
       "      <td>46.0</td>\n",
       "      <td>25.745</td>\n",
       "      <td>3.0</td>\n",
       "      <td>9301.89355</td>\n",
       "      <td>True</td>\n",
       "      <td>False</td>\n",
       "      <td>False</td>\n",
       "      <td>True</td>\n",
       "      <td>False</td>\n",
       "      <td>False</td>\n",
       "    </tr>\n",
       "    <tr>\n",
       "      <th>259</th>\n",
       "      <td>19.0</td>\n",
       "      <td>31.920</td>\n",
       "      <td>0.0</td>\n",
       "      <td>33750.29180</td>\n",
       "      <td>True</td>\n",
       "      <td>True</td>\n",
       "      <td>False</td>\n",
       "      <td>True</td>\n",
       "      <td>False</td>\n",
       "      <td>False</td>\n",
       "    </tr>\n",
       "    <tr>\n",
       "      <th>...</th>\n",
       "      <td>...</td>\n",
       "      <td>...</td>\n",
       "      <td>...</td>\n",
       "      <td>...</td>\n",
       "      <td>...</td>\n",
       "      <td>...</td>\n",
       "      <td>...</td>\n",
       "      <td>...</td>\n",
       "      <td>...</td>\n",
       "      <td>...</td>\n",
       "    </tr>\n",
       "    <tr>\n",
       "      <th>349</th>\n",
       "      <td>19.0</td>\n",
       "      <td>27.835</td>\n",
       "      <td>0.0</td>\n",
       "      <td>1635.73365</td>\n",
       "      <td>True</td>\n",
       "      <td>False</td>\n",
       "      <td>False</td>\n",
       "      <td>True</td>\n",
       "      <td>False</td>\n",
       "      <td>False</td>\n",
       "    </tr>\n",
       "    <tr>\n",
       "      <th>1156</th>\n",
       "      <td>19.0</td>\n",
       "      <td>44.880</td>\n",
       "      <td>0.0</td>\n",
       "      <td>39722.74620</td>\n",
       "      <td>True</td>\n",
       "      <td>True</td>\n",
       "      <td>False</td>\n",
       "      <td>False</td>\n",
       "      <td>True</td>\n",
       "      <td>False</td>\n",
       "    </tr>\n",
       "    <tr>\n",
       "      <th>991</th>\n",
       "      <td>38.0</td>\n",
       "      <td>27.835</td>\n",
       "      <td>2.0</td>\n",
       "      <td>7144.86265</td>\n",
       "      <td>False</td>\n",
       "      <td>False</td>\n",
       "      <td>True</td>\n",
       "      <td>False</td>\n",
       "      <td>False</td>\n",
       "      <td>False</td>\n",
       "    </tr>\n",
       "    <tr>\n",
       "      <th>876</th>\n",
       "      <td>49.0</td>\n",
       "      <td>27.100</td>\n",
       "      <td>1.0</td>\n",
       "      <td>26140.36030</td>\n",
       "      <td>False</td>\n",
       "      <td>False</td>\n",
       "      <td>False</td>\n",
       "      <td>False</td>\n",
       "      <td>False</td>\n",
       "      <td>True</td>\n",
       "    </tr>\n",
       "    <tr>\n",
       "      <th>773</th>\n",
       "      <td>19.0</td>\n",
       "      <td>28.880</td>\n",
       "      <td>0.0</td>\n",
       "      <td>17748.50620</td>\n",
       "      <td>False</td>\n",
       "      <td>True</td>\n",
       "      <td>False</td>\n",
       "      <td>True</td>\n",
       "      <td>False</td>\n",
       "      <td>False</td>\n",
       "    </tr>\n",
       "  </tbody>\n",
       "</table>\n",
       "<p>1000 rows × 10 columns</p>\n",
       "</div>"
      ],
      "text/plain": [
       "       age     bmi  children      charges  Gender_Male  Smoker_Yes  \\\n",
       "764   45.0  25.175       2.0   9095.06825        False       False   \n",
       "887   36.0  30.020       0.0   5272.17580        False       False   \n",
       "890   64.0  26.885       0.0  29330.98315        False        True   \n",
       "1293  46.0  25.745       3.0   9301.89355         True       False   \n",
       "259   19.0  31.920       0.0  33750.29180         True        True   \n",
       "...    ...     ...       ...          ...          ...         ...   \n",
       "349   19.0  27.835       0.0   1635.73365         True       False   \n",
       "1156  19.0  44.880       0.0  39722.74620         True        True   \n",
       "991   38.0  27.835       2.0   7144.86265        False       False   \n",
       "876   49.0  27.100       1.0  26140.36030        False       False   \n",
       "773   19.0  28.880       0.0  17748.50620        False        True   \n",
       "\n",
       "      region_northeast  region_northwest  region_southeast  region_southwest  \n",
       "764               True             False             False             False  \n",
       "887              False              True             False             False  \n",
       "890              False              True             False             False  \n",
       "1293             False              True             False             False  \n",
       "259              False              True             False             False  \n",
       "...                ...               ...               ...               ...  \n",
       "349              False              True             False             False  \n",
       "1156             False             False              True             False  \n",
       "991               True             False             False             False  \n",
       "876              False             False             False              True  \n",
       "773              False              True             False             False  \n",
       "\n",
       "[1000 rows x 10 columns]"
      ]
     },
     "execution_count": 22,
     "metadata": {},
     "output_type": "execute_result"
    }
   ],
   "source": [
    "df1"
   ]
  },
  {
   "cell_type": "code",
   "execution_count": 23,
   "id": "92d17d7e",
   "metadata": {},
   "outputs": [
    {
     "name": "stdout",
     "output_type": "stream",
     "text": [
      "<class 'pandas.core.frame.DataFrame'>\n",
      "Index: 1000 entries, 764 to 773\n",
      "Data columns (total 10 columns):\n",
      " #   Column            Non-Null Count  Dtype  \n",
      "---  ------            --------------  -----  \n",
      " 0   age               1000 non-null   float64\n",
      " 1   bmi               1000 non-null   float64\n",
      " 2   children          1000 non-null   float64\n",
      " 3   charges           1000 non-null   float64\n",
      " 4   Gender_Male       1000 non-null   bool   \n",
      " 5   Smoker_Yes        1000 non-null   bool   \n",
      " 6   region_northeast  1000 non-null   bool   \n",
      " 7   region_northwest  1000 non-null   bool   \n",
      " 8   region_southeast  1000 non-null   bool   \n",
      " 9   region_southwest  1000 non-null   bool   \n",
      "dtypes: bool(6), float64(4)\n",
      "memory usage: 44.9 KB\n"
     ]
    }
   ],
   "source": [
    "df1.info()"
   ]
  },
  {
   "cell_type": "code",
   "execution_count": 24,
   "id": "dd422000",
   "metadata": {},
   "outputs": [],
   "source": [
    "df1['Gender_Male']=df1['Gender_Male'].astype('int')\n",
    "df1['Smoker_Yes']=df1['Smoker_Yes'].astype('int')\n",
    "df1['region_northwest']=df1['region_northwest'].astype('int64')\n",
    "df1['region_southeast']=df1['region_southeast'].astype('int64')\n",
    "df1['region_southwest']=df1['region_southwest'].astype('int64')\n",
    "df1['region_northeast']=df1['region_northeast'].astype('int64')"
   ]
  },
  {
   "cell_type": "code",
   "execution_count": 25,
   "id": "edfc6314",
   "metadata": {},
   "outputs": [
    {
     "data": {
      "text/html": [
       "<div>\n",
       "<style scoped>\n",
       "    .dataframe tbody tr th:only-of-type {\n",
       "        vertical-align: middle;\n",
       "    }\n",
       "\n",
       "    .dataframe tbody tr th {\n",
       "        vertical-align: top;\n",
       "    }\n",
       "\n",
       "    .dataframe thead th {\n",
       "        text-align: right;\n",
       "    }\n",
       "</style>\n",
       "<table border=\"1\" class=\"dataframe\">\n",
       "  <thead>\n",
       "    <tr style=\"text-align: right;\">\n",
       "      <th></th>\n",
       "      <th>age</th>\n",
       "      <th>bmi</th>\n",
       "      <th>children</th>\n",
       "      <th>charges</th>\n",
       "      <th>Gender_Male</th>\n",
       "      <th>Smoker_Yes</th>\n",
       "      <th>region_northeast</th>\n",
       "      <th>region_northwest</th>\n",
       "      <th>region_southeast</th>\n",
       "      <th>region_southwest</th>\n",
       "    </tr>\n",
       "  </thead>\n",
       "  <tbody>\n",
       "    <tr>\n",
       "      <th>764</th>\n",
       "      <td>45.0</td>\n",
       "      <td>25.175</td>\n",
       "      <td>2.0</td>\n",
       "      <td>9095.06825</td>\n",
       "      <td>0</td>\n",
       "      <td>0</td>\n",
       "      <td>1</td>\n",
       "      <td>0</td>\n",
       "      <td>0</td>\n",
       "      <td>0</td>\n",
       "    </tr>\n",
       "    <tr>\n",
       "      <th>887</th>\n",
       "      <td>36.0</td>\n",
       "      <td>30.020</td>\n",
       "      <td>0.0</td>\n",
       "      <td>5272.17580</td>\n",
       "      <td>0</td>\n",
       "      <td>0</td>\n",
       "      <td>0</td>\n",
       "      <td>1</td>\n",
       "      <td>0</td>\n",
       "      <td>0</td>\n",
       "    </tr>\n",
       "    <tr>\n",
       "      <th>890</th>\n",
       "      <td>64.0</td>\n",
       "      <td>26.885</td>\n",
       "      <td>0.0</td>\n",
       "      <td>29330.98315</td>\n",
       "      <td>0</td>\n",
       "      <td>1</td>\n",
       "      <td>0</td>\n",
       "      <td>1</td>\n",
       "      <td>0</td>\n",
       "      <td>0</td>\n",
       "    </tr>\n",
       "    <tr>\n",
       "      <th>1293</th>\n",
       "      <td>46.0</td>\n",
       "      <td>25.745</td>\n",
       "      <td>3.0</td>\n",
       "      <td>9301.89355</td>\n",
       "      <td>1</td>\n",
       "      <td>0</td>\n",
       "      <td>0</td>\n",
       "      <td>1</td>\n",
       "      <td>0</td>\n",
       "      <td>0</td>\n",
       "    </tr>\n",
       "    <tr>\n",
       "      <th>259</th>\n",
       "      <td>19.0</td>\n",
       "      <td>31.920</td>\n",
       "      <td>0.0</td>\n",
       "      <td>33750.29180</td>\n",
       "      <td>1</td>\n",
       "      <td>1</td>\n",
       "      <td>0</td>\n",
       "      <td>1</td>\n",
       "      <td>0</td>\n",
       "      <td>0</td>\n",
       "    </tr>\n",
       "  </tbody>\n",
       "</table>\n",
       "</div>"
      ],
      "text/plain": [
       "       age     bmi  children      charges  Gender_Male  Smoker_Yes  \\\n",
       "764   45.0  25.175       2.0   9095.06825            0           0   \n",
       "887   36.0  30.020       0.0   5272.17580            0           0   \n",
       "890   64.0  26.885       0.0  29330.98315            0           1   \n",
       "1293  46.0  25.745       3.0   9301.89355            1           0   \n",
       "259   19.0  31.920       0.0  33750.29180            1           1   \n",
       "\n",
       "      region_northeast  region_northwest  region_southeast  region_southwest  \n",
       "764                  1                 0                 0                 0  \n",
       "887                  0                 1                 0                 0  \n",
       "890                  0                 1                 0                 0  \n",
       "1293                 0                 1                 0                 0  \n",
       "259                  0                 1                 0                 0  "
      ]
     },
     "execution_count": 25,
     "metadata": {},
     "output_type": "execute_result"
    }
   ],
   "source": [
    "df1.head()"
   ]
  },
  {
   "cell_type": "code",
   "execution_count": 26,
   "id": "12d7963b",
   "metadata": {},
   "outputs": [
    {
     "data": {
      "image/png": "[encoded data removed]",
      "text/plain": [
       "<Figure size 640x480 with 1 Axes>"
      ]
     },
     "metadata": {},
     "output_type": "display_data"
    }
   ],
   "source": [
    "plt.scatter(df1['age'], df1['bmi'], color='green',edgecolors='black')\n",
    "plt.xlabel(\"Age\")\n",
    "plt.ylabel(\"BMI\")\n",
    "plt.title(\"Age vs BMI\")\n",
    "plt.show()"
   ]
  },
  {
   "cell_type": "code",
   "execution_count": 27,
   "id": "d3ecae39",
   "metadata": {},
   "outputs": [
    {
     "data": {
      "text/plain": [
       "<Axes: xlabel='charges', ylabel='Density'>"
      ]
     },
     "execution_count": 27,
     "metadata": {},
     "output_type": "execute_result"
    },
    {
     "data": {
      "image/png": "[encoded data removed]",
      "text/plain": [
       "<Figure size 1500x400 with 4 Axes>"
      ]
     },
     "metadata": {},
     "output_type": "display_data"
    }
   ],
   "source": [
    "plt.figure(figsize=(15,4))\n",
    "plt.subplot(1,4,1)\n",
    "sns.kdeplot(df1['age'])\n",
    "plt.subplot(1,4,2)\n",
    "sns.kdeplot(df1['bmi'])\n",
    "plt.subplot(1,4,3)\n",
    "sns.kdeplot(df1['children'])\n",
    "plt.subplot(1,4,4)\n",
    "sns.kdeplot(df1['charges'])"
   ]
  },
  {
   "cell_type": "code",
   "execution_count": 28,
   "id": "1324163b",
   "metadata": {},
   "outputs": [
    {
     "data": {
      "text/plain": [
       "age                 0.053596\n",
       "bmi                 0.303272\n",
       "children            0.865021\n",
       "charges             1.470003\n",
       "Gender_Male        -0.024038\n",
       "Smoker_Yes          1.404064\n",
       "region_northeast    1.325978\n",
       "region_northwest    1.181307\n",
       "region_southeast    1.003706\n",
       "region_southwest    1.131960\n",
       "dtype: float64"
      ]
     },
     "execution_count": 28,
     "metadata": {},
     "output_type": "execute_result"
    }
   ],
   "source": [
    "df1.skew()"
   ]
  },
  {
   "cell_type": "code",
   "execution_count": 29,
   "id": "aa69171b",
   "metadata": {},
   "outputs": [
    {
     "data": {
      "text/plain": [
       "<Axes: xlabel='charges', ylabel='Density'>"
      ]
     },
     "execution_count": 29,
     "metadata": {},
     "output_type": "execute_result"
    },
    {
     "data": {
      "image/png": "[encoded data removed]",
      "text/plain": [
       "<Figure size 640x480 with 1 Axes>"
      ]
     },
     "metadata": {},
     "output_type": "display_data"
    }
   ],
   "source": [
    "df1['charges']=np.log(df['charges'])\n",
    "sns.kdeplot(df1['charges'])"
   ]
  },
  {
   "cell_type": "code",
   "execution_count": 30,
   "id": "f592e9dc",
   "metadata": {},
   "outputs": [
    {
     "data": {
      "text/plain": [
       "-0.10203610871798845"
      ]
     },
     "execution_count": 30,
     "metadata": {},
     "output_type": "execute_result"
    }
   ],
   "source": [
    "df1['charges'].skew()"
   ]
  },
  {
   "cell_type": "code",
   "execution_count": 31,
   "id": "7704b380",
   "metadata": {},
   "outputs": [
    {
     "data": {
      "text/plain": [
       "<Axes: xlabel='children', ylabel='Density'>"
      ]
     },
     "execution_count": 31,
     "metadata": {},
     "output_type": "execute_result"
    },
    {
     "data": {
      "image/png": "[encoded data removed]",
      "text/plain": [
       "<Figure size 640x480 with 1 Axes>"
      ]
     },
     "metadata": {},
     "output_type": "display_data"
    }
   ],
   "source": [
    "df1['children']=np.log1p(df['children'])\n",
    "sns.kdeplot(df1['children'])"
   ]
  },
  {
   "cell_type": "code",
   "execution_count": 32,
   "id": "8f641851",
   "metadata": {},
   "outputs": [
    {
     "data": {
      "text/plain": [
       "0.21493926876406894"
      ]
     },
     "execution_count": 32,
     "metadata": {},
     "output_type": "execute_result"
    }
   ],
   "source": [
    "df1['children'].skew()"
   ]
  },
  {
   "cell_type": "code",
   "execution_count": 33,
   "id": "37a17d66",
   "metadata": {},
   "outputs": [
    {
     "data": {
      "text/html": [
       "<div>\n",
       "<style scoped>\n",
       "    .dataframe tbody tr th:only-of-type {\n",
       "        vertical-align: middle;\n",
       "    }\n",
       "\n",
       "    .dataframe tbody tr th {\n",
       "        vertical-align: top;\n",
       "    }\n",
       "\n",
       "    .dataframe thead th {\n",
       "        text-align: right;\n",
       "    }\n",
       "</style>\n",
       "<table border=\"1\" class=\"dataframe\">\n",
       "  <thead>\n",
       "    <tr style=\"text-align: right;\">\n",
       "      <th></th>\n",
       "      <th>age</th>\n",
       "      <th>bmi</th>\n",
       "      <th>children</th>\n",
       "      <th>charges</th>\n",
       "      <th>Gender_Male</th>\n",
       "      <th>Smoker_Yes</th>\n",
       "      <th>region_northeast</th>\n",
       "      <th>region_northwest</th>\n",
       "      <th>region_southeast</th>\n",
       "      <th>region_southwest</th>\n",
       "    </tr>\n",
       "  </thead>\n",
       "  <tbody>\n",
       "    <tr>\n",
       "      <th>age</th>\n",
       "      <td>1.000000</td>\n",
       "      <td>0.121509</td>\n",
       "      <td>0.039921</td>\n",
       "      <td>0.522849</td>\n",
       "      <td>-0.048744</td>\n",
       "      <td>-0.032265</td>\n",
       "      <td>-0.015632</td>\n",
       "      <td>0.007127</td>\n",
       "      <td>-0.017171</td>\n",
       "      <td>0.025554</td>\n",
       "    </tr>\n",
       "    <tr>\n",
       "      <th>bmi</th>\n",
       "      <td>0.121509</td>\n",
       "      <td>1.000000</td>\n",
       "      <td>0.004633</td>\n",
       "      <td>0.123343</td>\n",
       "      <td>0.059054</td>\n",
       "      <td>-0.005362</td>\n",
       "      <td>-0.119827</td>\n",
       "      <td>-0.142827</td>\n",
       "      <td>0.260306</td>\n",
       "      <td>-0.011234</td>\n",
       "    </tr>\n",
       "    <tr>\n",
       "      <th>children</th>\n",
       "      <td>0.039921</td>\n",
       "      <td>0.004633</td>\n",
       "      <td>1.000000</td>\n",
       "      <td>0.157476</td>\n",
       "      <td>0.035107</td>\n",
       "      <td>-0.011807</td>\n",
       "      <td>-0.027218</td>\n",
       "      <td>0.044271</td>\n",
       "      <td>-0.044377</td>\n",
       "      <td>0.027839</td>\n",
       "    </tr>\n",
       "    <tr>\n",
       "      <th>charges</th>\n",
       "      <td>0.522849</td>\n",
       "      <td>0.123343</td>\n",
       "      <td>0.157476</td>\n",
       "      <td>1.000000</td>\n",
       "      <td>-0.001196</td>\n",
       "      <td>0.670941</td>\n",
       "      <td>0.029392</td>\n",
       "      <td>-0.010756</td>\n",
       "      <td>0.018750</td>\n",
       "      <td>-0.036764</td>\n",
       "    </tr>\n",
       "    <tr>\n",
       "      <th>Gender_Male</th>\n",
       "      <td>-0.048744</td>\n",
       "      <td>0.059054</td>\n",
       "      <td>0.035107</td>\n",
       "      <td>-0.001196</td>\n",
       "      <td>1.000000</td>\n",
       "      <td>0.084133</td>\n",
       "      <td>-0.011245</td>\n",
       "      <td>-0.025431</td>\n",
       "      <td>0.028386</td>\n",
       "      <td>0.006782</td>\n",
       "    </tr>\n",
       "    <tr>\n",
       "      <th>Smoker_Yes</th>\n",
       "      <td>-0.032265</td>\n",
       "      <td>-0.005362</td>\n",
       "      <td>-0.011807</td>\n",
       "      <td>0.670941</td>\n",
       "      <td>0.084133</td>\n",
       "      <td>1.000000</td>\n",
       "      <td>-0.010029</td>\n",
       "      <td>-0.030613</td>\n",
       "      <td>0.083116</td>\n",
       "      <td>-0.045460</td>\n",
       "    </tr>\n",
       "    <tr>\n",
       "      <th>region_northeast</th>\n",
       "      <td>-0.015632</td>\n",
       "      <td>-0.119827</td>\n",
       "      <td>-0.027218</td>\n",
       "      <td>0.029392</td>\n",
       "      <td>-0.011245</td>\n",
       "      <td>-0.010029</td>\n",
       "      <td>1.000000</td>\n",
       "      <td>-0.306885</td>\n",
       "      <td>-0.331725</td>\n",
       "      <td>-0.313502</td>\n",
       "    </tr>\n",
       "    <tr>\n",
       "      <th>region_northwest</th>\n",
       "      <td>0.007127</td>\n",
       "      <td>-0.142827</td>\n",
       "      <td>0.044271</td>\n",
       "      <td>-0.010756</td>\n",
       "      <td>-0.025431</td>\n",
       "      <td>-0.030613</td>\n",
       "      <td>-0.306885</td>\n",
       "      <td>1.000000</td>\n",
       "      <td>-0.352669</td>\n",
       "      <td>-0.333295</td>\n",
       "    </tr>\n",
       "    <tr>\n",
       "      <th>region_southeast</th>\n",
       "      <td>-0.017171</td>\n",
       "      <td>0.260306</td>\n",
       "      <td>-0.044377</td>\n",
       "      <td>0.018750</td>\n",
       "      <td>0.028386</td>\n",
       "      <td>0.083116</td>\n",
       "      <td>-0.331725</td>\n",
       "      <td>-0.352669</td>\n",
       "      <td>1.000000</td>\n",
       "      <td>-0.360274</td>\n",
       "    </tr>\n",
       "    <tr>\n",
       "      <th>region_southwest</th>\n",
       "      <td>0.025554</td>\n",
       "      <td>-0.011234</td>\n",
       "      <td>0.027839</td>\n",
       "      <td>-0.036764</td>\n",
       "      <td>0.006782</td>\n",
       "      <td>-0.045460</td>\n",
       "      <td>-0.313502</td>\n",
       "      <td>-0.333295</td>\n",
       "      <td>-0.360274</td>\n",
       "      <td>1.000000</td>\n",
       "    </tr>\n",
       "  </tbody>\n",
       "</table>\n",
       "</div>"
      ],
      "text/plain": [
       "                       age       bmi  children   charges  Gender_Male  \\\n",
       "age               1.000000  0.121509  0.039921  0.522849    -0.048744   \n",
       "bmi               0.121509  1.000000  0.004633  0.123343     0.059054   \n",
       "children          0.039921  0.004633  1.000000  0.157476     0.035107   \n",
       "charges           0.522849  0.123343  0.157476  1.000000    -0.001196   \n",
       "Gender_Male      -0.048744  0.059054  0.035107 -0.001196     1.000000   \n",
       "Smoker_Yes       -0.032265 -0.005362 -0.011807  0.670941     0.084133   \n",
       "region_northeast -0.015632 -0.119827 -0.027218  0.029392    -0.011245   \n",
       "region_northwest  0.007127 -0.142827  0.044271 -0.010756    -0.025431   \n",
       "region_southeast -0.017171  0.260306 -0.044377  0.018750     0.028386   \n",
       "region_southwest  0.025554 -0.011234  0.027839 -0.036764     0.006782   \n",
       "\n",
       "                  Smoker_Yes  region_northeast  region_northwest  \\\n",
       "age                -0.032265         -0.015632          0.007127   \n",
       "bmi                -0.005362         -0.119827         -0.142827   \n",
       "children           -0.011807         -0.027218          0.044271   \n",
       "charges             0.670941          0.029392         -0.010756   \n",
       "Gender_Male         0.084133         -0.011245         -0.025431   \n",
       "Smoker_Yes          1.000000         -0.010029         -0.030613   \n",
       "region_northeast   -0.010029          1.000000         -0.306885   \n",
       "region_northwest   -0.030613         -0.306885          1.000000   \n",
       "region_southeast    0.083116         -0.331725         -0.352669   \n",
       "region_southwest   -0.045460         -0.313502         -0.333295   \n",
       "\n",
       "                  region_southeast  region_southwest  \n",
       "age                      -0.017171          0.025554  \n",
       "bmi                       0.260306         -0.011234  \n",
       "children                 -0.044377          0.027839  \n",
       "charges                   0.018750         -0.036764  \n",
       "Gender_Male               0.028386          0.006782  \n",
       "Smoker_Yes                0.083116         -0.045460  \n",
       "region_northeast         -0.331725         -0.313502  \n",
       "region_northwest         -0.352669         -0.333295  \n",
       "region_southeast          1.000000         -0.360274  \n",
       "region_southwest         -0.360274          1.000000  "
      ]
     },
     "execution_count": 33,
     "metadata": {},
     "output_type": "execute_result"
    }
   ],
   "source": [
    "df1.corr() #charges --smoker,age,bmi,children"
   ]
  },
  {
   "cell_type": "code",
   "execution_count": 34,
   "id": "ccda52d7",
   "metadata": {},
   "outputs": [
    {
     "data": {
      "text/plain": [
       "<Axes: >"
      ]
     },
     "execution_count": 34,
     "metadata": {},
     "output_type": "execute_result"
    },
    {
     "data": {
      "image/png": "[encoded data removed]",
      "text/plain": [
       "<Figure size 640x480 with 2 Axes>"
      ]
     },
     "metadata": {},
     "output_type": "display_data"
    }
   ],
   "source": [
    "sns.heatmap(df1[['age', 'charges', 'bmi','Smoker_Yes','children']].corr(),annot=True,cmap='Blues')"
   ]
  },
  {
   "cell_type": "code",
   "execution_count": 35,
   "id": "ec305efa",
   "metadata": {},
   "outputs": [
    {
     "data": {
      "text/plain": [
       "Index(['age', 'bmi', 'children', 'charges', 'Gender_Male', 'Smoker_Yes',\n",
       "       'region_northeast', 'region_northwest', 'region_southeast',\n",
       "       'region_southwest'],\n",
       "      dtype='object')"
      ]
     },
     "execution_count": 35,
     "metadata": {},
     "output_type": "execute_result"
    }
   ],
   "source": [
    "df1.columns"
   ]
  },
  {
   "cell_type": "code",
   "execution_count": 36,
   "id": "8b9260ad",
   "metadata": {},
   "outputs": [
    {
     "name": "stdout",
     "output_type": "stream",
     "text": [
      "Best Slope : 0.035510250004454735\n",
      "Intercept: 7.049280102961571\n",
      "R2 score: 0.5705759551267864\n",
      "RMSE: 0.47892265610093837\n"
     ]
    }
   ],
   "source": [
    "from sklearn.linear_model import LinearRegression\n",
    "from sklearn.metrics import r2_score,root_mean_squared_error\n",
    "from sklearn.model_selection import train_test_split\n",
    "X=df1.drop(columns=['region_northeast','region_northwest','region_southwest','region_southeast','charges'])\n",
    "y=df1['charges']\n",
    "X_train,X_test,y_train,y_test=train_test_split(X,y,test_size=0.2,random_state=42)\n",
    "model=LinearRegression()\n",
    "model.fit(X_train,y_train)\n",
    "print(\"Best Slope :\",model.coef_[0])\n",
    "print(\"Intercept:\",model.intercept_)\n",
    "y_pred=model.predict(X_test)\n",
    "print(\"R2 score:\",r2_score(y_pred,y_test))\n",
    "print(\"RMSE:\",root_mean_squared_error(y_pred,y_test))"
   ]
  },
  {
   "cell_type": "code",
   "execution_count": 37,
   "id": "eca27af1",
   "metadata": {},
   "outputs": [],
   "source": [
    "import pickle\n",
    "\n",
    "filename = 'trained_model.sav'\n",
    "with open(filename, 'wb') as f:\n",
    "    pickle.dump((model), f)\n",
    "\n",
    "with open(filename, 'rb') as f:\n",
    "    loaded_model= pickle.load(f)\n"
   ]
  }
 ],
 "metadata": {
  "kernelspec": {
   "display_name": "pyai",
   "language": "python",
   "name": "python3"
  },
  "language_info": {
   "codemirror_mode": {
    "name": "ipython",
    "version": 3
   },
   "file_extension": ".py",
   "mimetype": "text/x-python",
   "name": "python",
   "nbconvert_exporter": "python",
   "pygments_lexer": "ipython3",
   "version": "3.12.11"
  }
 },
 "nbformat": 4,
 "nbformat_minor": 5
}
